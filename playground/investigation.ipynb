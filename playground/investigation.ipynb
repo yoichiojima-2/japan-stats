{
 "cells": [
  {
   "cell_type": "code",
   "execution_count": null,
   "metadata": {},
   "outputs": [],
   "source": [
    "import sqlite3\n",
    "import enum\n",
    "\n",
    "import pandas as pd\n",
    "import dotenv"
   ]
  },
  {
   "cell_type": "code",
   "execution_count": null,
   "metadata": {},
   "outputs": [],
   "source": [
    "dotenv.load_dotenv()"
   ]
  },
  {
   "cell_type": "code",
   "execution_count": null,
   "metadata": {},
   "outputs": [],
   "source": [
    "class StatId(enum.Enum):\n",
    "    population: str = \"0000010101\"\n",
    "    environment: str = \"0000010102\"\n",
    "    economics: str = \"0000010103\"\n",
    "    administration: str = \"0000010104\"\n",
    "    education: str = \"0000010105\"\n",
    "    labour: str = \"0000010106\"\n",
    "    culture: str = \"0000010107\"\n",
    "    housing: str = \"0000010108\"\n",
    "    medical_care: str = \"0000010109\"\n",
    "    social_security: str = \"0000010110\"\n",
    "    household_finance: str = \"0000010111\"\n",
    "    daily_routine: str = \"0000010112\""
   ]
  },
  {
   "cell_type": "code",
   "execution_count": null,
   "metadata": {},
   "outputs": [],
   "source": [
    "p_conn = sqlite3.connect(\"./data/population.db\")\n",
    "record = pd.read_sql(\"select * from record;\", p_conn)\n",
    "\n",
    "c_conn = sqlite3.connect(\"./data/class.db\")\n",
    "tab = pd.read_sql(\"select * from tab\", c_conn)\n",
    "cat01 = pd.read_sql(\"select * from cat01\", c_conn)\n",
    "area = pd.read_sql(\"select * from area\", c_conn)\n",
    "time = pd.read_sql(\"select * from time\", c_conn)\n",
    "(\n",
    "    record.drop(columns=\"@unit\")\n",
    "    .merge(tab, left_on=\"@tab\", right_on=\"@code\", how=\"left\")\n",
    "    .drop(columns=\"@code\")\n",
    "    .rename(columns={\"@name\": \"tab\", \"@level\": \"tab_level\"})\n",
    "    .merge(cat01, left_on=\"@cat01\", right_on=\"@code\", how=\"left\")\n",
    "    .drop(columns=\"@code\")\n",
    "    .rename(columns={\"@name\": \"cat01\", \"@level\": \"cat01_level\"})\n",
    "    .merge(area, left_on=\"@area\", right_on=\"@code\", how=\"left\")\n",
    "    .drop(columns=\"@code\")\n",
    "    .rename(columns={\"@name\": \"area\", \"@level\": \"area_level\"})\n",
    "    .merge(time, left_on=\"@time\", right_on=\"@code\", how=\"left\")\n",
    "    .drop(columns=\"@code\")\n",
    "    .rename(columns={\"@name\": \"time\", \"@level\": \"time_level\"})\n",
    ")"
   ]
  },
  {
   "cell_type": "code",
   "execution_count": null,
   "metadata": {},
   "outputs": [],
   "source": []
  }
 ],
 "metadata": {
  "kernelspec": {
   "display_name": "Python 3",
   "language": "python",
   "name": "python3"
  },
  "language_info": {
   "codemirror_mode": {
    "name": "ipython",
    "version": 3
   },
   "file_extension": ".py",
   "mimetype": "text/x-python",
   "name": "python",
   "nbconvert_exporter": "python",
   "pygments_lexer": "ipython3",
   "version": "3.12.1"
  }
 },
 "nbformat": 4,
 "nbformat_minor": 2
}
