{
 "cells": [
  {
   "cell_type": "code",
   "execution_count": null,
   "metadata": {},
   "outputs": [],
   "source": [
    "import os\n",
    "import sqlite3\n",
    "import enum\n",
    "\n",
    "import pandas as pd\n",
    "import lib\n",
    "import dotenv"
   ]
  },
  {
   "cell_type": "code",
   "execution_count": null,
   "metadata": {},
   "outputs": [],
   "source": [
    "dotenv.load_dotenv()"
   ]
  },
  {
   "cell_type": "code",
   "execution_count": null,
   "metadata": {},
   "outputs": [],
   "source": [
    "class StatId(enum.Enum):\n",
    "    population: str = \"0000010101\"\n",
    "    environment: str = \"0000010102\"\n",
    "    economics: str = \"0000010103\"\n",
    "    administration: str = \"0000010104\"\n",
    "    education: str = \"0000010105\"\n",
    "    labour: str = \"0000010106\"\n",
    "    culture: str = \"0000010107\"\n",
    "    housing: str = \"0000010108\"\n",
    "    medical_care: str = \"0000010109\"\n",
    "    social_security: str = \"0000010110\"\n",
    "    household_finance: str = \"0000010111\"\n",
    "    daily_routine: str = \"0000010112\""
   ]
  },
  {
   "cell_type": "code",
   "execution_count": null,
   "metadata": {},
   "outputs": [],
   "source": [
    "conn = sqlite3.connect(\"./data/population.db\")\n",
    "df = pd.read_sql(\"SELECT * FROM record;\", conn)\n",
    "df.head()"
   ]
  },
  {
   "cell_type": "code",
   "execution_count": null,
   "metadata": {},
   "outputs": [],
   "source": [
    "stats_res = lib.fetch(\n",
    "    endpoint=\"getStatsData\",\n",
    "    params={\n",
    "        \"appId\": os.getenv(\"APP_ID\"),\n",
    "        \"statsDataId\": StatId.population.value,\n",
    "    },\n",
    ")\n",
    "stats_data = lib.StatsData(stats_res)\n",
    "\n",
    "for i in stats_data.get_class():\n",
    "    print(i)"
   ]
  },
  {
   "cell_type": "code",
   "execution_count": null,
   "metadata": {},
   "outputs": [],
   "source": []
  }
 ],
 "metadata": {
  "kernelspec": {
   "display_name": "Python 3",
   "language": "python",
   "name": "python3"
  },
  "language_info": {
   "codemirror_mode": {
    "name": "ipython",
    "version": 3
   },
   "file_extension": ".py",
   "mimetype": "text/x-python",
   "name": "python",
   "nbconvert_exporter": "python",
   "pygments_lexer": "ipython3",
   "version": "3.12.1"
  }
 },
 "nbformat": 4,
 "nbformat_minor": 2
}
