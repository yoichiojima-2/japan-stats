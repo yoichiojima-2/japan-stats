{
 "cells": [
  {
   "cell_type": "code",
   "execution_count": 75,
   "metadata": {},
   "outputs": [],
   "source": [
    "import sqlite3\n",
    "from pathlib import Path\n",
    "import pandas as pd\n",
    "from pandas import DataFrame\n",
    "import matplotlib.pyplot as plt\n",
    "import seaborn as sns"
   ]
  },
  {
   "cell_type": "code",
   "execution_count": 13,
   "metadata": {},
   "outputs": [],
   "source": [
    "sns.set()"
   ]
  },
  {
   "cell_type": "code",
   "execution_count": 8,
   "metadata": {},
   "outputs": [],
   "source": [
    "db = Path(\"../data/japan-stats.db\")"
   ]
  },
  {
   "cell_type": "code",
   "execution_count": 17,
   "metadata": {},
   "outputs": [
    {
     "data": {
      "text/html": [
       "<div>\n",
       "<style scoped>\n",
       "    .dataframe tbody tr th:only-of-type {\n",
       "        vertical-align: middle;\n",
       "    }\n",
       "\n",
       "    .dataframe tbody tr th {\n",
       "        vertical-align: top;\n",
       "    }\n",
       "\n",
       "    .dataframe thead th {\n",
       "        text-align: right;\n",
       "    }\n",
       "</style>\n",
       "<table border=\"1\" class=\"dataframe\">\n",
       "  <thead>\n",
       "    <tr style=\"text-align: right;\">\n",
       "      <th></th>\n",
       "      <th>type</th>\n",
       "      <th>name</th>\n",
       "      <th>tbl_name</th>\n",
       "      <th>rootpage</th>\n",
       "      <th>sql</th>\n",
       "    </tr>\n",
       "  </thead>\n",
       "  <tbody>\n",
       "    <tr>\n",
       "      <th>0</th>\n",
       "      <td>table</td>\n",
       "      <td>population_record</td>\n",
       "      <td>population_record</td>\n",
       "      <td>2</td>\n",
       "      <td>CREATE TABLE \"population_record\" (\\n\"cat01\" TE...</td>\n",
       "    </tr>\n",
       "    <tr>\n",
       "      <th>1</th>\n",
       "      <td>table</td>\n",
       "      <td>cat01</td>\n",
       "      <td>cat01</td>\n",
       "      <td>696</td>\n",
       "      <td>CREATE TABLE \"cat01\" (\\n\"code\" TEXT,\\n  \"age_c...</td>\n",
       "    </tr>\n",
       "    <tr>\n",
       "      <th>2</th>\n",
       "      <td>table</td>\n",
       "      <td>area</td>\n",
       "      <td>area</td>\n",
       "      <td>697</td>\n",
       "      <td>CREATE TABLE \"area\" (\\n\"code\" TEXT,\\n  \"name\" ...</td>\n",
       "    </tr>\n",
       "    <tr>\n",
       "      <th>3</th>\n",
       "      <td>table</td>\n",
       "      <td>time</td>\n",
       "      <td>time</td>\n",
       "      <td>698</td>\n",
       "      <td>CREATE TABLE \"time\" (\\n\"code\" TEXT,\\n  \"year\" ...</td>\n",
       "    </tr>\n",
       "  </tbody>\n",
       "</table>\n",
       "</div>"
      ],
      "text/plain": [
       "    type               name           tbl_name  rootpage  \\\n",
       "0  table  population_record  population_record         2   \n",
       "1  table              cat01              cat01       696   \n",
       "2  table               area               area       697   \n",
       "3  table               time               time       698   \n",
       "\n",
       "                                                 sql  \n",
       "0  CREATE TABLE \"population_record\" (\\n\"cat01\" TE...  \n",
       "1  CREATE TABLE \"cat01\" (\\n\"code\" TEXT,\\n  \"age_c...  \n",
       "2  CREATE TABLE \"area\" (\\n\"code\" TEXT,\\n  \"name\" ...  \n",
       "3  CREATE TABLE \"time\" (\\n\"code\" TEXT,\\n  \"year\" ...  "
      ]
     },
     "execution_count": 17,
     "metadata": {},
     "output_type": "execute_result"
    }
   ],
   "source": [
    "with sqlite3.connect(str(db)) as conn:\n",
    "    df = pd.read_sql(\"select * from sqlite_master\", conn)\n",
    "\n",
    "df"
   ]
  },
  {
   "cell_type": "code",
   "execution_count": 106,
   "metadata": {},
   "outputs": [],
   "source": [
    "def get_population(pref: str, sex: str = None, year: int = None) -> DataFrame:\n",
    "    with sqlite3.connect(str(db)) as conn:\n",
    "        sql = f\"\"\"\n",
    "            with area_modified as (\n",
    "                select code, name as pref from area\n",
    "            ),\n",
    "            middle_table as (\n",
    "                select\n",
    "                    age_class * 5 as age, \n",
    "                    sex, \n",
    "                    pref, \n",
    "                    year, \n",
    "                    value as population\n",
    "                from population_record as rcd\n",
    "                left outer join cat01 on rcd.cat01 = cat01.code\n",
    "                left outer join area_modified on rcd.area = area_modified.code\n",
    "                left outer join time on rcd.time = time.code\n",
    "            )\n",
    "            select age, sum(population) as population\n",
    "            from middle_table \n",
    "            where\n",
    "                {f\"pref = '{pref}'\" if pref else \"\"}\n",
    "                {f\"and sex = '{sex}'\" if sex else \"\"}\n",
    "                {f\"and year = '{year}'\" if year else \"\"}\n",
    "            group by age\n",
    "            order by age\n",
    "        \"\"\"\n",
    "        return pd.read_sql(sql, conn).astype({\"age\": str, \"population\": int})"
   ]
  },
  {
   "cell_type": "code",
   "execution_count": 108,
   "metadata": {},
   "outputs": [
    {
     "data": {
      "image/png": "[encoded data removed]",
      "text/plain": [
       "<Figure size 500x400 with 1 Axes>"
      ]
     },
     "metadata": {},
     "output_type": "display_data"
    }
   ],
   "source": [
    "df = get_population(pref = \"東京都\")\n",
    "plt.figure(figsize = (5, 4))\n",
    "plt.bar(df[\"age\"], df[\"population\"], width=1, alpha = 0.4, color = 'blue')\n",
    "df = get_population(pref = \"愛知県\")\n",
    "plt.bar(df[\"age\"], df[\"population\"], width=1, alpha = 0.4, color = 'red')\n",
    "df = get_population(pref = \"沖縄県\")\n",
    "plt.bar(df[\"age\"], df[\"population\"], width=1, alpha = 0.4, color = 'green')\n",
    "df = get_population(pref = \"北海道\")\n",
    "plt.bar(df[\"age\"], df[\"population\"], width=1, alpha = 0.4, color = 'yellow')\n",
    "plt.tight_layout()\n",
    "plt.show()"
   ]
  },
  {
   "cell_type": "code",
   "execution_count": null,
   "metadata": {},
   "outputs": [],
   "source": []
  }
 ],
 "metadata": {
  "kernelspec": {
   "display_name": "Python 3",
   "language": "python",
   "name": "python3"
  },
  "language_info": {
   "codemirror_mode": {
    "name": "ipython",
    "version": 3
   },
   "file_extension": ".py",
   "mimetype": "text/x-python",
   "name": "python",
   "nbconvert_exporter": "python",
   "pygments_lexer": "ipython3",
   "version": "3.12.1"
  }
 },
 "nbformat": 4,
 "nbformat_minor": 2
}
