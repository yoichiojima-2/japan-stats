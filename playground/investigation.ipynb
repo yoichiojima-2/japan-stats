{
 "cells": [
  {
   "cell_type": "code",
   "execution_count": null,
   "metadata": {},
   "outputs": [],
   "source": [
    "import os\n",
    "from enum import Enum\n",
    "import dataclasses\n",
    "import pathlib\n",
    "import requests\n",
    "from requests.models import Response\n",
    "import pandas as pd\n",
    "import urllib\n",
    "import dotenv\n",
    "\n",
    "dotenv.load_dotenv()\n",
    "\n",
    "class StatId(Enum):\n",
    "    population: str = \"0000010101\"\n",
    "    environment: str = \"0000010102\"\n",
    "    economics: str = \"0000010103\"\n",
    "    administration: str = \"0000010104\"\n",
    "    education: str = \"0000010105\"\n",
    "    labour: str = \"0000010106\"\n",
    "    culture: str = \"0000010107\"\n",
    "    housing: str = \"0000010108\"\n",
    "    medical_care: str = \"0000010109\"\n",
    "    social_security: str = \"0000010110\"\n",
    "    household_finance: str = \"0000010111\"\n",
    "    daily_routine: str = \"0000010112\"\n",
    "\n",
    "\n",
    "@dataclasses.dataclass\n",
    "class ClassData:\n",
    "    id: str\n",
    "    name: str\n",
    "    data: pd.DataFrame\n",
    "\n",
    "\n",
    "@dataclasses.dataclass\n",
    "class StatsData:\n",
    "    response: Response\n",
    "\n",
    "    def get_values(self) -> pd.DataFrame:\n",
    "        return pd.DataFrame(self.response.json()[\"GET_STATS_DATA\"][\"STATISTICAL_DATA\"][\"DATA_INF\"][\"VALUE\"])\n",
    "\n",
    "    def get_class(self) -> list[ClassData]:\n",
    "        class_list: list[ClassData] = []\n",
    "        class_obj = self.response.json()[\"GET_STATS_DATA\"][\"STATISTICAL_DATA\"][\"CLASS_INF\"][\"CLASS_OBJ\"]\n",
    "        for c in class_obj:\n",
    "            data = c[\"CLASS\"]\n",
    "            class_list.append(\n",
    "                ClassData(\n",
    "                    id=c[\"@id\"],\n",
    "                    name=c[\"@name\"],\n",
    "                    data=pd.DataFrame(data if isinstance(data, list) else [data]),\n",
    "                )\n",
    "            )\n",
    "        return class_list\n",
    "\n",
    "    def output_feature_list(self):\n",
    "        p = pathlib.Path(\"./feature_list.txt\")\n",
    "        p.touch()\n",
    "        with p.open(\"w\", encoding=\"utf-8\") as f:\n",
    "            for stat in self.StatId:\n",
    "                f.write(stat.name + \"\\n\")\n",
    "                data = self.fetch(stat.value)\n",
    "                for cls in self.extract_classes(data):\n",
    "                    if cls.id == \"cat01\":\n",
    "                        for code, feature in zip(cls.data[\"@code\"], cls.data[\"@name\"]):\n",
    "                            formatted_feature = feature.replace(code + \"_\", \"\")\n",
    "                            f.write(f\"\\t - {code:<10} | {formatted_feature}\\n\")\n",
    "                f.write(\"\\n\")\n",
    "                print(\"done.\")"
   ]
  },
  {
   "cell_type": "code",
   "execution_count": null,
   "metadata": {},
   "outputs": [],
   "source": [
    "def fetch(endpoint: str, params: dict[str, str]):\n",
    "    base_url: str = f\"https://api.e-stat.go.jp/rest/{os.getenv('API_VERSION')}/app/json/\"\n",
    "    url = urllib.parse.urljoin(base_url, endpoint)\n",
    "    return requests.get(url, params=params)"
   ]
  },
  {
   "cell_type": "code",
   "execution_count": null,
   "metadata": {},
   "outputs": [],
   "source": [
    "endpoint: str = \"getStatsData\"\n",
    "params: dict[str, str] = {\n",
    "    \"appId\": os.getenv(\"APP_ID\"),\n",
    "    \"statsDataId\": StatId.population.value,\n",
    "    \"cdCat01From\": \"A1201\",\n",
    "    \"cdCat01To\": \"A122102\",\n",
    "    \"lvArea\": \"1\"\n",
    "}\n",
    "stats_res = fetch(endpoint, params)"
   ]
  },
  {
   "cell_type": "code",
   "execution_count": null,
   "metadata": {},
   "outputs": [],
   "source": [
    "stats_data = StatsData(stats_res)\n",
    "stats_data.get_values()"
   ]
  },
  {
   "cell_type": "code",
   "execution_count": null,
   "metadata": {},
   "outputs": [],
   "source": [
    "[i.id for i in stats_data.get_class()]"
   ]
  },
  {
   "cell_type": "code",
   "execution_count": null,
   "metadata": {},
   "outputs": [],
   "source": [
    "for i in stats_data.get_class():\n",
    "    if i.id == \"cat01\":\n",
    "        for j in i.data.sort_values(\"@code\")[\"@name\"]:\n",
    "            print(j)"
   ]
  },
  {
   "cell_type": "code",
   "execution_count": null,
   "metadata": {},
   "outputs": [],
   "source": [
    "for i in stats_data.get_class():\n",
    "    if i.id == \"area\":\n",
    "        display(i.data[i.data[\"@level\"] == \"1\"])"
   ]
  },
  {
   "cell_type": "code",
   "execution_count": null,
   "metadata": {},
   "outputs": [],
   "source": []
  }
 ],
 "metadata": {
  "kernelspec": {
   "display_name": "Python 3",
   "language": "python",
   "name": "python3"
  },
  "language_info": {
   "codemirror_mode": {
    "name": "ipython",
    "version": 3
   },
   "file_extension": ".py",
   "mimetype": "text/x-python",
   "name": "python",
   "nbconvert_exporter": "python",
   "pygments_lexer": "ipython3",
   "version": "3.12.1"
  }
 },
 "nbformat": 4,
 "nbformat_minor": 2
}
