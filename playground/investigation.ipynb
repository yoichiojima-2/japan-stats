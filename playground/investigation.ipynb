{
 "cells": [
  {
   "cell_type": "code",
   "execution_count": 3,
   "metadata": {},
   "outputs": [
    {
     "data": {
      "text/html": [
       "<div>\n",
       "<style scoped>\n",
       "    .dataframe tbody tr th:only-of-type {\n",
       "        vertical-align: middle;\n",
       "    }\n",
       "\n",
       "    .dataframe tbody tr th {\n",
       "        vertical-align: top;\n",
       "    }\n",
       "\n",
       "    .dataframe thead th {\n",
       "        text-align: right;\n",
       "    }\n",
       "</style>\n",
       "<table border=\"1\" class=\"dataframe\">\n",
       "  <thead>\n",
       "    <tr style=\"text-align: right;\">\n",
       "      <th></th>\n",
       "      <th>index</th>\n",
       "      <th>@tab</th>\n",
       "      <th>@cat01</th>\n",
       "      <th>@area</th>\n",
       "      <th>@time</th>\n",
       "      <th>@unit</th>\n",
       "      <th>$</th>\n",
       "    </tr>\n",
       "  </thead>\n",
       "  <tbody>\n",
       "    <tr>\n",
       "      <th>0</th>\n",
       "      <td>0</td>\n",
       "      <td>00001</td>\n",
       "      <td>A120101</td>\n",
       "      <td>00000</td>\n",
       "      <td>1975100000</td>\n",
       "      <td>人</td>\n",
       "      <td>5127359</td>\n",
       "    </tr>\n",
       "    <tr>\n",
       "      <th>1</th>\n",
       "      <td>1</td>\n",
       "      <td>00001</td>\n",
       "      <td>A120101</td>\n",
       "      <td>00000</td>\n",
       "      <td>1976100000</td>\n",
       "      <td>人</td>\n",
       "      <td>5064000</td>\n",
       "    </tr>\n",
       "    <tr>\n",
       "      <th>2</th>\n",
       "      <td>2</td>\n",
       "      <td>00001</td>\n",
       "      <td>A120101</td>\n",
       "      <td>00000</td>\n",
       "      <td>1977100000</td>\n",
       "      <td>人</td>\n",
       "      <td>4929000</td>\n",
       "    </tr>\n",
       "    <tr>\n",
       "      <th>3</th>\n",
       "      <td>3</td>\n",
       "      <td>00001</td>\n",
       "      <td>A120101</td>\n",
       "      <td>00000</td>\n",
       "      <td>1978100000</td>\n",
       "      <td>人</td>\n",
       "      <td>4750000</td>\n",
       "    </tr>\n",
       "    <tr>\n",
       "      <th>4</th>\n",
       "      <td>4</td>\n",
       "      <td>00001</td>\n",
       "      <td>A120101</td>\n",
       "      <td>00000</td>\n",
       "      <td>1979100000</td>\n",
       "      <td>人</td>\n",
       "      <td>4555000</td>\n",
       "    </tr>\n",
       "  </tbody>\n",
       "</table>\n",
       "</div>"
      ],
      "text/plain": [
       "   index   @tab   @cat01  @area       @time @unit        $\n",
       "0      0  00001  A120101  00000  1975100000     人  5127359\n",
       "1      1  00001  A120101  00000  1976100000     人  5064000\n",
       "2      2  00001  A120101  00000  1977100000     人  4929000\n",
       "3      3  00001  A120101  00000  1978100000     人  4750000\n",
       "4      4  00001  A120101  00000  1979100000     人  4555000"
      ]
     },
     "execution_count": 3,
     "metadata": {},
     "output_type": "execute_result"
    }
   ],
   "source": [
    "import pandas as pd\n",
    "import sqlite3\n",
    "\n",
    "\n",
    "conn = sqlite3.connect(\"./data/population.db\")\n",
    "df = pd.read_sql(\"SELECT * FROM record;\", conn)\n",
    "df.head()"
   ]
  }
 ],
 "metadata": {
  "kernelspec": {
   "display_name": "Python 3",
   "language": "python",
   "name": "python3"
  },
  "language_info": {
   "codemirror_mode": {
    "name": "ipython",
    "version": 3
   },
   "file_extension": ".py",
   "mimetype": "text/x-python",
   "name": "python",
   "nbconvert_exporter": "python",
   "pygments_lexer": "ipython3",
   "version": "3.12.1"
  }
 },
 "nbformat": 4,
 "nbformat_minor": 2
}
