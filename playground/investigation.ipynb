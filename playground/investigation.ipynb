{
 "cells": [
  {
   "cell_type": "code",
   "execution_count": null,
   "metadata": {},
   "outputs": [],
   "source": [
    "import os\n",
    "import enum\n",
    "import dataclasses\n",
    "import pathlib\n",
    "import re\n",
    "import sqlite3\n",
    "import requests\n",
    "from requests.models import Response\n",
    "import tqdm\n",
    "import pandas as pd\n",
    "import urllib\n",
    "import dotenv\n",
    "\n",
    "dotenv.load_dotenv()\n",
    "\n",
    "\n",
    "class StatId(enum.Enum):\n",
    "    population: str = \"0000010101\"\n",
    "    environment: str = \"0000010102\"\n",
    "    economics: str = \"0000010103\"\n",
    "    administration: str = \"0000010104\"\n",
    "    education: str = \"0000010105\"\n",
    "    labour: str = \"0000010106\"\n",
    "    culture: str = \"0000010107\"\n",
    "    housing: str = \"0000010108\"\n",
    "    medical_care: str = \"0000010109\"\n",
    "    social_security: str = \"0000010110\"\n",
    "    household_finance: str = \"0000010111\"\n",
    "    daily_routine: str = \"0000010112\"\n",
    "\n",
    "\n",
    "@dataclasses.dataclass\n",
    "class ClassData:\n",
    "    id: str\n",
    "    name: str\n",
    "    data: pd.DataFrame\n",
    "\n",
    "\n",
    "@dataclasses.dataclass\n",
    "class StatsData:\n",
    "    response: Response\n",
    "\n",
    "    def get_values(self) -> pd.DataFrame:\n",
    "        return pd.DataFrame(self.response.json()[\"GET_STATS_DATA\"][\"STATISTICAL_DATA\"][\"DATA_INF\"][\"VALUE\"])\n",
    "\n",
    "    def get_class(self) -> list[ClassData]:\n",
    "        class_list: list[ClassData] = []\n",
    "        class_obj = self.response.json()[\"GET_STATS_DATA\"][\"STATISTICAL_DATA\"][\"CLASS_INF\"][\"CLASS_OBJ\"]\n",
    "        for c in class_obj:\n",
    "            data = c[\"CLASS\"]\n",
    "            class_list.append(\n",
    "                ClassData(\n",
    "                    id=c[\"@id\"],\n",
    "                    name=c[\"@name\"],\n",
    "                    data=pd.DataFrame(data if isinstance(data, list) else [data]),\n",
    "                )\n",
    "            )\n",
    "        return class_list\n",
    "\n",
    "    def output_feature_list(self):\n",
    "        p = pathlib.Path(\"./feature_list.txt\")\n",
    "        p.touch()\n",
    "        with p.open(\"w\", encoding=\"utf-8\") as f:\n",
    "            for stat in self.StatId:\n",
    "                f.write(stat.name + \"\\n\")\n",
    "                data = self.fetch(stat.value)\n",
    "                for cls in self.extract_classes(data):\n",
    "                    if cls.id == \"cat01\":\n",
    "                        for code, feature in zip(cls.data[\"@code\"], cls.data[\"@name\"]):\n",
    "                            formatted_feature = feature.replace(code + \"_\", \"\")\n",
    "                            f.write(f\"\\t - {code:<10} | {formatted_feature}\\n\")\n",
    "                f.write(\"\\n\")\n",
    "                print(\"done.\")"
   ]
  },
  {
   "cell_type": "code",
   "execution_count": null,
   "metadata": {},
   "outputs": [],
   "source": [
    "def fetch(endpoint: str, params: dict[str, str]):\n",
    "    base_url: str = f\"https://api.e-stat.go.jp/rest/{os.getenv('API_VERSION')}/app/json/\"\n",
    "    url = urllib.parse.urljoin(base_url, endpoint)\n",
    "    return requests.get(url, params=params)"
   ]
  },
  {
   "cell_type": "code",
   "execution_count": null,
   "metadata": {},
   "outputs": [],
   "source": [
    "# make api request for conprehensive data\n",
    "endpoint: str = \"getStatsData\"\n",
    "params: dict[str, str] = {\n",
    "    \"appId\": os.getenv(\"APP_ID\"),\n",
    "    \"statsDataId\": StatId.population.value,\n",
    "}\n",
    "stats_res = fetch(endpoint, params)"
   ]
  },
  {
   "cell_type": "code",
   "execution_count": null,
   "metadata": {},
   "outputs": [],
   "source": [
    "# see values\n",
    "stats_data = StatsData(stats_res)\n",
    "stats_data.get_values().head()"
   ]
  },
  {
   "cell_type": "code",
   "execution_count": null,
   "metadata": {},
   "outputs": [],
   "source": [
    "# see classes\n",
    "[i.id for i in stats_data.get_class()]"
   ]
  },
  {
   "cell_type": "code",
   "execution_count": null,
   "metadata": {},
   "outputs": [],
   "source": [
    "# list features\n",
    "for cls in stats_data.get_class():\n",
    "    if cls.id == \"cat01\":\n",
    "        for feature in cls.data.sort_values(\"@code\")[\"@name\"]:\n",
    "            print(feature)"
   ]
  },
  {
   "cell_type": "code",
   "execution_count": 103,
   "metadata": {},
   "outputs": [
    {
     "name": "stdout",
     "output_type": "stream",
     "text": [
      "setting up a database for population partitioned by sex, age and area\n"
     ]
    },
    {
     "name": "stderr",
     "output_type": "stream",
     "text": [
      "fetching data: 100%|██████████| 42/42 [00:13<00:00,  3.03it/s]\n"
     ]
    },
    {
     "name": "stdout",
     "output_type": "stream",
     "text": [
      "done.\n"
     ]
    }
   ],
   "source": [
    "# fetch population partitioned by sex, age and area\n",
    "# and save it to sqlite3 database\n",
    "\n",
    "\n",
    "def extract_num_from_code(code: str) -> int:\n",
    "    match_obj = re.search(r\"A([0-9]*)\", code)\n",
    "    if match_obj:\n",
    "        return int(match_obj.group(1))\n",
    "\n",
    "\n",
    "def query_by_cat01(cat01: str):\n",
    "    endpoint: str = \"getStatsData\"\n",
    "    params: dict[str, str] = {\n",
    "        \"appId\": os.getenv(\"APP_ID\"),\n",
    "        \"statsDataId\": StatId.population.value,\n",
    "        \"cdCat01\": i,\n",
    "    }\n",
    "    return fetch(endpoint, params)\n",
    "\n",
    "\n",
    "p = pathlib.Path(\"./data\")\n",
    "p.mkdir(exist_ok=True, parents=True)\n",
    "\n",
    "endpoint: str = \"getStatsData\"\n",
    "params: dict[str, str] = {\n",
    "    \"appId\": os.getenv(\"APP_ID\"),\n",
    "    \"statsDataId\": StatId.population.value,\n",
    "}\n",
    "\n",
    "stats_res = fetch(endpoint, params)\n",
    "for i in stats_data.get_class():\n",
    "    if i.id == \"cat01\":\n",
    "        cat01_df = i.data\n",
    "\n",
    "cat01_df[\"num_in_code\"] = cat01_df[\"@code\"].apply(lambda x: extract_num_from_code(x))\n",
    "population_age_gender_codes = cat01_df[cat01_df[\"num_in_code\"].between(120101, 122102)][\"@code\"].to_list()\n",
    "\n",
    "conn = sqlite3.connect(\"./data/population.db\")\n",
    "\n",
    "dfs: list[pd.DataFrame] = []\n",
    "\n",
    "for i in tqdm.tqdm(population_age_gender_codes, desc=\"fetching data\"):\n",
    "    res = query_by_cat01(i)\n",
    "    i_stats_data = StatsData(res)\n",
    "    dfs.append(i_stats_data.get_values())\n",
    "\n",
    "pd.concat(dfs).to_sql(\"sex_age_area\", conn, if_exists=\"replace\")\n",
    "print(\"done.\")"
   ]
  },
  {
   "cell_type": "code",
   "execution_count": null,
   "metadata": {},
   "outputs": [],
   "source": []
  }
 ],
 "metadata": {
  "kernelspec": {
   "display_name": "Python 3",
   "language": "python",
   "name": "python3"
  },
  "language_info": {
   "codemirror_mode": {
    "name": "ipython",
    "version": 3
   },
   "file_extension": ".py",
   "mimetype": "text/x-python",
   "name": "python",
   "nbconvert_exporter": "python",
   "pygments_lexer": "ipython3",
   "version": "3.12.1"
  }
 },
 "nbformat": 4,
 "nbformat_minor": 2
}
