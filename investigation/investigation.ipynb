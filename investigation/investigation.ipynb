{
 "cells": [
  {
   "cell_type": "code",
   "execution_count": 20,
   "metadata": {},
   "outputs": [
    {
     "ename": "AttributeError",
     "evalue": "module 'lib' has no attribute 'extract_values'",
     "output_type": "error",
     "traceback": [
      "\u001b[0;31m---------------------------------------------------------------------------\u001b[0m",
      "\u001b[0;31mAttributeError\u001b[0m                            Traceback (most recent call last)",
      "Cell \u001b[0;32mIn[20], line 7\u001b[0m\n\u001b[1;32m      4\u001b[0m dotenv\u001b[38;5;241m.\u001b[39mload_dotenv()\n\u001b[1;32m      6\u001b[0m data \u001b[38;5;241m=\u001b[39m lib\u001b[38;5;241m.\u001b[39mget_data(lib\u001b[38;5;241m.\u001b[39mStatId\u001b[38;5;241m.\u001b[39mpopulation\u001b[38;5;241m.\u001b[39mvalue)\n\u001b[0;32m----> 7\u001b[0m values \u001b[38;5;241m=\u001b[39m \u001b[43mlib\u001b[49m\u001b[38;5;241;43m.\u001b[39;49m\u001b[43mextract_values\u001b[49m(data)\n\u001b[1;32m      8\u001b[0m \u001b[38;5;28;01mfor\u001b[39;00m i \u001b[38;5;129;01min\u001b[39;00m lib\u001b[38;5;241m.\u001b[39mextract_classes(data):\n\u001b[1;32m      9\u001b[0m     display(i\u001b[38;5;241m.\u001b[39mdata)\n",
      "\u001b[0;31mAttributeError\u001b[0m: module 'lib' has no attribute 'extract_values'"
     ]
    }
   ],
   "source": [
    "import dotenv\n",
    "import lib\n",
    "\n",
    "dotenv.load_dotenv()\n",
    "\n",
    "data = lib.get_data(lib.StatId.population.value)\n",
    "values = lib.extract_values(data)\n",
    "display(values)\n",
    "for i in lib.extract_classes(data):\n",
    "    display(i.data)"
   ]
  },
  {
   "cell_type": "code",
   "execution_count": null,
   "metadata": {},
   "outputs": [],
   "source": []
  }
 ],
 "metadata": {
  "kernelspec": {
   "display_name": "Python 3",
   "language": "python",
   "name": "python3"
  },
  "language_info": {
   "codemirror_mode": {
    "name": "ipython",
    "version": 3
   },
   "file_extension": ".py",
   "mimetype": "text/x-python",
   "name": "python",
   "nbconvert_exporter": "python",
   "pygments_lexer": "ipython3",
   "version": "3.12.1"
  }
 },
 "nbformat": 4,
 "nbformat_minor": 2
}
